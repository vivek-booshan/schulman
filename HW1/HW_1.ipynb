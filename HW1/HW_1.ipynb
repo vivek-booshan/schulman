{
 "cells": [
  {
   "cell_type": "markdown",
   "id": "c87af674",
   "metadata": {},
   "source": [
    "##  Investigating gems"
   ]
  },
  {
   "cell_type": "markdown",
   "id": "fe898221",
   "metadata": {},
   "source": [
    "a. We briefly discussed a data set listing diamonds and their characteristic prices and physical attributes in class.  This dataset is provided for you in a ```csv``` file.  Load the dataset ```diamonds.csv``` into your notebook as the variable ```diamonds_df```"
   ]
  },
  {
   "cell_type": "code",
   "execution_count": 2,
   "id": "af2f9a23",
   "metadata": {},
   "outputs": [
    {
     "data": {
      "text/html": [
       "<div>\n",
       "<style scoped>\n",
       "    .dataframe tbody tr th:only-of-type {\n",
       "        vertical-align: middle;\n",
       "    }\n",
       "\n",
       "    .dataframe tbody tr th {\n",
       "        vertical-align: top;\n",
       "    }\n",
       "\n",
       "    .dataframe thead th {\n",
       "        text-align: right;\n",
       "    }\n",
       "</style>\n",
       "<table border=\"1\" class=\"dataframe\">\n",
       "  <thead>\n",
       "    <tr style=\"text-align: right;\">\n",
       "      <th></th>\n",
       "      <th>Unnamed: 0</th>\n",
       "      <th>carat</th>\n",
       "      <th>cut</th>\n",
       "      <th>color</th>\n",
       "      <th>clarity</th>\n",
       "      <th>depth</th>\n",
       "      <th>table</th>\n",
       "      <th>price</th>\n",
       "      <th>x</th>\n",
       "      <th>y</th>\n",
       "      <th>z</th>\n",
       "    </tr>\n",
       "  </thead>\n",
       "  <tbody>\n",
       "    <tr>\n",
       "      <th>0</th>\n",
       "      <td>1</td>\n",
       "      <td>0.23</td>\n",
       "      <td>Ideal</td>\n",
       "      <td>E</td>\n",
       "      <td>SI2</td>\n",
       "      <td>61.5</td>\n",
       "      <td>55.0</td>\n",
       "      <td>326</td>\n",
       "      <td>3.95</td>\n",
       "      <td>3.98</td>\n",
       "      <td>2.43</td>\n",
       "    </tr>\n",
       "    <tr>\n",
       "      <th>1</th>\n",
       "      <td>2</td>\n",
       "      <td>0.21</td>\n",
       "      <td>Premium</td>\n",
       "      <td>E</td>\n",
       "      <td>SI1</td>\n",
       "      <td>59.8</td>\n",
       "      <td>61.0</td>\n",
       "      <td>326</td>\n",
       "      <td>3.89</td>\n",
       "      <td>3.84</td>\n",
       "      <td>2.31</td>\n",
       "    </tr>\n",
       "    <tr>\n",
       "      <th>2</th>\n",
       "      <td>3</td>\n",
       "      <td>0.23</td>\n",
       "      <td>Good</td>\n",
       "      <td>E</td>\n",
       "      <td>VS1</td>\n",
       "      <td>56.9</td>\n",
       "      <td>65.0</td>\n",
       "      <td>327</td>\n",
       "      <td>4.05</td>\n",
       "      <td>4.07</td>\n",
       "      <td>2.31</td>\n",
       "    </tr>\n",
       "    <tr>\n",
       "      <th>3</th>\n",
       "      <td>4</td>\n",
       "      <td>0.29</td>\n",
       "      <td>Premium</td>\n",
       "      <td>I</td>\n",
       "      <td>VS2</td>\n",
       "      <td>62.4</td>\n",
       "      <td>58.0</td>\n",
       "      <td>334</td>\n",
       "      <td>4.20</td>\n",
       "      <td>4.23</td>\n",
       "      <td>2.63</td>\n",
       "    </tr>\n",
       "    <tr>\n",
       "      <th>4</th>\n",
       "      <td>5</td>\n",
       "      <td>0.31</td>\n",
       "      <td>Good</td>\n",
       "      <td>J</td>\n",
       "      <td>SI2</td>\n",
       "      <td>63.3</td>\n",
       "      <td>58.0</td>\n",
       "      <td>335</td>\n",
       "      <td>4.34</td>\n",
       "      <td>4.35</td>\n",
       "      <td>2.75</td>\n",
       "    </tr>\n",
       "    <tr>\n",
       "      <th>...</th>\n",
       "      <td>...</td>\n",
       "      <td>...</td>\n",
       "      <td>...</td>\n",
       "      <td>...</td>\n",
       "      <td>...</td>\n",
       "      <td>...</td>\n",
       "      <td>...</td>\n",
       "      <td>...</td>\n",
       "      <td>...</td>\n",
       "      <td>...</td>\n",
       "      <td>...</td>\n",
       "    </tr>\n",
       "    <tr>\n",
       "      <th>53935</th>\n",
       "      <td>53936</td>\n",
       "      <td>0.72</td>\n",
       "      <td>Ideal</td>\n",
       "      <td>D</td>\n",
       "      <td>SI1</td>\n",
       "      <td>60.8</td>\n",
       "      <td>57.0</td>\n",
       "      <td>2757</td>\n",
       "      <td>5.75</td>\n",
       "      <td>5.76</td>\n",
       "      <td>3.50</td>\n",
       "    </tr>\n",
       "    <tr>\n",
       "      <th>53936</th>\n",
       "      <td>53937</td>\n",
       "      <td>0.72</td>\n",
       "      <td>Good</td>\n",
       "      <td>D</td>\n",
       "      <td>SI1</td>\n",
       "      <td>63.1</td>\n",
       "      <td>55.0</td>\n",
       "      <td>2757</td>\n",
       "      <td>5.69</td>\n",
       "      <td>5.75</td>\n",
       "      <td>3.61</td>\n",
       "    </tr>\n",
       "    <tr>\n",
       "      <th>53937</th>\n",
       "      <td>53938</td>\n",
       "      <td>0.70</td>\n",
       "      <td>Very Good</td>\n",
       "      <td>D</td>\n",
       "      <td>SI1</td>\n",
       "      <td>62.8</td>\n",
       "      <td>60.0</td>\n",
       "      <td>2757</td>\n",
       "      <td>5.66</td>\n",
       "      <td>5.68</td>\n",
       "      <td>3.56</td>\n",
       "    </tr>\n",
       "    <tr>\n",
       "      <th>53938</th>\n",
       "      <td>53939</td>\n",
       "      <td>0.86</td>\n",
       "      <td>Premium</td>\n",
       "      <td>H</td>\n",
       "      <td>SI2</td>\n",
       "      <td>61.0</td>\n",
       "      <td>58.0</td>\n",
       "      <td>2757</td>\n",
       "      <td>6.15</td>\n",
       "      <td>6.12</td>\n",
       "      <td>3.74</td>\n",
       "    </tr>\n",
       "    <tr>\n",
       "      <th>53939</th>\n",
       "      <td>53940</td>\n",
       "      <td>0.75</td>\n",
       "      <td>Ideal</td>\n",
       "      <td>D</td>\n",
       "      <td>SI2</td>\n",
       "      <td>62.2</td>\n",
       "      <td>55.0</td>\n",
       "      <td>2757</td>\n",
       "      <td>5.83</td>\n",
       "      <td>5.87</td>\n",
       "      <td>3.64</td>\n",
       "    </tr>\n",
       "  </tbody>\n",
       "</table>\n",
       "<p>53940 rows × 11 columns</p>\n",
       "</div>"
      ],
      "text/plain": [
       "       Unnamed: 0  carat        cut color clarity  depth  table  price     x  \\\n",
       "0               1   0.23      Ideal     E     SI2   61.5   55.0    326  3.95   \n",
       "1               2   0.21    Premium     E     SI1   59.8   61.0    326  3.89   \n",
       "2               3   0.23       Good     E     VS1   56.9   65.0    327  4.05   \n",
       "3               4   0.29    Premium     I     VS2   62.4   58.0    334  4.20   \n",
       "4               5   0.31       Good     J     SI2   63.3   58.0    335  4.34   \n",
       "...           ...    ...        ...   ...     ...    ...    ...    ...   ...   \n",
       "53935       53936   0.72      Ideal     D     SI1   60.8   57.0   2757  5.75   \n",
       "53936       53937   0.72       Good     D     SI1   63.1   55.0   2757  5.69   \n",
       "53937       53938   0.70  Very Good     D     SI1   62.8   60.0   2757  5.66   \n",
       "53938       53939   0.86    Premium     H     SI2   61.0   58.0   2757  6.15   \n",
       "53939       53940   0.75      Ideal     D     SI2   62.2   55.0   2757  5.83   \n",
       "\n",
       "          y     z  \n",
       "0      3.98  2.43  \n",
       "1      3.84  2.31  \n",
       "2      4.07  2.31  \n",
       "3      4.23  2.63  \n",
       "4      4.35  2.75  \n",
       "...     ...   ...  \n",
       "53935  5.76  3.50  \n",
       "53936  5.75  3.61  \n",
       "53937  5.68  3.56  \n",
       "53938  6.12  3.74  \n",
       "53939  5.87  3.64  \n",
       "\n",
       "[53940 rows x 11 columns]"
      ]
     },
     "execution_count": 2,
     "metadata": {},
     "output_type": "execute_result"
    }
   ],
   "source": [
    "import numpy as np\n",
    "import pandas as pd\n",
    "import matplotlib.pyplot as plt\n",
    "from plotnine import * \n",
    "\n",
    "diamonds_df = pd.read_csv(\"diamonds.csv\")\n",
    "diamonds_df"
   ]
  },
  {
   "cell_type": "markdown",
   "id": "f686b59c",
   "metadata": {},
   "source": [
    "b.  Take a look at the dataframe using one of the tools we've discussed in class.  List the columns, what type of variable is in each of the columns and what datatype Python is using to store each of the columns.\n",
    "\n",
    "Are each of the datatypes consistent with the type of variable used? Why or why not?"
   ]
  },
  {
   "cell_type": "code",
   "execution_count": 3,
   "id": "f3ec8113",
   "metadata": {},
   "outputs": [
    {
     "name": "stdout",
     "output_type": "stream",
     "text": [
      "Index(['Unnamed: 0', 'carat', 'cut', 'color', 'clarity', 'depth', 'table',\n",
      "       'price', 'x', 'y', 'z'],\n",
      "      dtype='object')\n",
      "[<class 'str'>, <class 'str'>, <class 'str'>, <class 'str'>, <class 'str'>, <class 'str'>, <class 'str'>, <class 'str'>, <class 'str'>, <class 'str'>, <class 'str'>]\n"
     ]
    }
   ],
   "source": [
    "print(diamonds_df.columns)\n",
    "print([type(column) for column in diamonds_df.columns])"
   ]
  },
  {
   "cell_type": "markdown",
   "id": "d52b41ec",
   "metadata": {},
   "source": [
    "There are 11 columns:\n",
    "- 1: Unnamed: 0\n",
    "- 2: carat\n",
    "- 3: cut\n",
    "- 4: color\n",
    "- 5: clarity\n",
    "- 6: depth\n",
    "- 7: table\n",
    "- 8: price\n",
    "- 9: x\n",
    "- 10: y\n",
    "- 11: z\n",
    "\n",
    "And all of them are of the string data type. However, variables 1, 2, 6-11 are all quantitative, while variables 3-5 are qualitative/categorical."
   ]
  },
  {
   "cell_type": "markdown",
   "id": "414dc9af",
   "metadata": {},
   "source": [
    "c.  Create a side by side boxplot of the range of prices by gem cut."
   ]
  },
  {
   "cell_type": "code",
   "execution_count": 4,
   "id": "02cdacd9",
   "metadata": {},
   "outputs": [
    {
     "data": {
      "text/plain": [
       "<Axes: title={'center': 'price'}, xlabel='cut'>"
      ]
     },
     "execution_count": 4,
     "metadata": {},
     "output_type": "execute_result"
    },
    {
     "data": {
      "image/png": "[encoded data removed]",
      "text/plain": [
       "<Figure size 640x480 with 1 Axes>"
      ]
     },
     "metadata": {},
     "output_type": "display_data"
    }
   ],
   "source": [
    "diamonds_df.boxplot(by=\"cut\", column=\"price\")"
   ]
  },
  {
   "cell_type": "markdown",
   "id": "56d1acc4",
   "metadata": {},
   "source": [
    "d.  What shapes are gems?  Create a scatter plot that compares the X vs Y dimensions of all of the color \"E\" gems.  What do you notice?"
   ]
  },
  {
   "cell_type": "code",
   "execution_count": 5,
   "id": "80b1b383",
   "metadata": {},
   "outputs": [
    {
     "data": {
      "text/plain": [
       "(0.0, 10.0)"
      ]
     },
     "execution_count": 5,
     "metadata": {},
     "output_type": "execute_result"
    },
    {
     "data": {
      "image/png": "[encoded data removed]",
      "text/plain": [
       "<Figure size 640x480 with 1 Axes>"
      ]
     },
     "metadata": {},
     "output_type": "display_data"
    }
   ],
   "source": [
    "E_grade = diamonds_df[diamonds_df.color == \"E\"]\n",
    "E_grade.plot.scatter(x=\"x\", y=\"y\")\n",
    "plt.ylim(0, 10)\n",
    "\n",
    "# there is almost a perfect 1 to 1 correlation between x and y dim"
   ]
  },
  {
   "cell_type": "markdown",
   "id": "a46defdd",
   "metadata": {},
   "source": [
    "e. Now repeat d, but comparing x to z.  What can you say about the shapes of gems?"
   ]
  },
  {
   "cell_type": "code",
   "execution_count": 6,
   "id": "6371120d",
   "metadata": {},
   "outputs": [
    {
     "data": {
      "text/plain": [
       "(0.0, 10.0)"
      ]
     },
     "execution_count": 6,
     "metadata": {},
     "output_type": "execute_result"
    },
    {
     "data": {
      "image/png": "[encoded data removed]",
      "text/plain": [
       "<Figure size 640x480 with 1 Axes>"
      ]
     },
     "metadata": {},
     "output_type": "display_data"
    }
   ],
   "source": [
    "E_grade.plot.scatter(x=\"x\", y=\"z\")\n",
    "plt.ylim(0, 10)\n",
    "\n",
    "# We can say that the depth of the diamonds \n",
    "# are approximately half the length of the diamond base\n",
    "# which is close to being square in area\n"
   ]
  },
  {
   "cell_type": "markdown",
   "id": "9a3d22e5",
   "metadata": {},
   "source": [
    "f. Here we will ask whether each of the diamonds are compact, ie the extent to which they are spherical or not.\n",
    "To do so, we will first calculate the volume that the diamond would take up if  the X-Y-Z dimensions of the diamond defined an ovoid.  In this case, the volume of the diamond would be\n",
    "\n",
    "$$ V = \\frac{4 \\pi}{3} xyz $$.\n",
    "\n",
    "Add a column ```Ovoid volume``` to the diamonds dataframe that has this hypothetical volume."
   ]
  },
  {
   "cell_type": "code",
   "execution_count": 7,
   "id": "924f7af5",
   "metadata": {},
   "outputs": [],
   "source": [
    "diamonds_df[\"Ovoid volume\"] = (4*np.pi/3) * diamonds_df.x * diamonds_df.y * diamonds_df.z"
   ]
  },
  {
   "cell_type": "markdown",
   "id": "cfdab11c",
   "metadata": {},
   "source": [
    "g. A carat is 200 mg, so it is a measure of weight.  Given the data we have, here we will estimate the compactness of each of the diamonds by dividing the putative ovoid volume by the weight of the diamond.  Add a column to the diamonds dataframe ```Ovoid compactness``` that divides the ovoid volume by the number of carats."
   ]
  },
  {
   "cell_type": "code",
   "execution_count": 18,
   "id": "21a3f706",
   "metadata": {},
   "outputs": [],
   "source": [
    "diamonds_df[\"Ovoid compactness\"] = diamonds_df[\"Ovoid volume\"] / diamonds_df.carat"
   ]
  },
  {
   "cell_type": "markdown",
   "id": "73a025c2",
   "metadata": {},
   "source": [
    "h.  Now, let's use this measure to see if different cuts have different extents of compactness.  Find the average compactness for each of the cuts by grouping the diamonds by cut and taking the mean."
   ]
  },
  {
   "cell_type": "code",
   "execution_count": 37,
   "id": "689f19f3",
   "metadata": {},
   "outputs": [
    {
     "data": {
      "text/html": [
       "<div>\n",
       "<style scoped>\n",
       "    .dataframe tbody tr th:only-of-type {\n",
       "        vertical-align: middle;\n",
       "    }\n",
       "\n",
       "    .dataframe tbody tr th {\n",
       "        vertical-align: top;\n",
       "    }\n",
       "\n",
       "    .dataframe thead th {\n",
       "        text-align: right;\n",
       "    }\n",
       "</style>\n",
       "<table border=\"1\" class=\"dataframe\">\n",
       "  <thead>\n",
       "    <tr style=\"text-align: right;\">\n",
       "      <th></th>\n",
       "      <th>cut</th>\n",
       "      <th>Ovoid compactness</th>\n",
       "    </tr>\n",
       "  </thead>\n",
       "  <tbody>\n",
       "    <tr>\n",
       "      <th>0</th>\n",
       "      <td>Fair</td>\n",
       "      <td>663.746439</td>\n",
       "    </tr>\n",
       "    <tr>\n",
       "      <th>1</th>\n",
       "      <td>Good</td>\n",
       "      <td>675.273387</td>\n",
       "    </tr>\n",
       "    <tr>\n",
       "      <th>2</th>\n",
       "      <td>Ideal</td>\n",
       "      <td>689.741170</td>\n",
       "    </tr>\n",
       "    <tr>\n",
       "      <th>3</th>\n",
       "      <td>Premium</td>\n",
       "      <td>682.062875</td>\n",
       "    </tr>\n",
       "    <tr>\n",
       "      <th>4</th>\n",
       "      <td>Very Good</td>\n",
       "      <td>682.734196</td>\n",
       "    </tr>\n",
       "  </tbody>\n",
       "</table>\n",
       "</div>"
      ],
      "text/plain": [
       "         cut  Ovoid compactness\n",
       "0       Fair         663.746439\n",
       "1       Good         675.273387\n",
       "2      Ideal         689.741170\n",
       "3    Premium         682.062875\n",
       "4  Very Good         682.734196"
      ]
     },
     "execution_count": 37,
     "metadata": {},
     "output_type": "execute_result"
    }
   ],
   "source": [
    "cut_df = diamonds_df.groupby(\"cut\")[\"Ovoid compactness\"].mean().reset_index()\n",
    "cut_df"
   ]
  },
  {
   "cell_type": "markdown",
   "id": "decb787d",
   "metadata": {},
   "source": [
    "i.  Make a bar graph that compares the mean compactness of each of the cuts using the ```ggplot2``` software we discussed in class.  Use appropriate axis labels."
   ]
  },
  {
   "cell_type": "code",
   "execution_count": 45,
   "id": "18ba7f2b",
   "metadata": {},
   "outputs": [
    {
     "data": {
      "image/png": "[encoded data removed]",
      "text/plain": [
       "<Figure size 640x480 with 1 Axes>"
      ]
     },
     "metadata": {
      "image/png": {
       "height": 480,
       "width": 640
      }
     },
     "output_type": "display_data"
    },
    {
     "data": {
      "text/plain": [
       "<Figure Size: (640 x 480)>"
      ]
     },
     "execution_count": 45,
     "metadata": {},
     "output_type": "execute_result"
    }
   ],
   "source": [
    "(\n",
    "    ggplot(cut_df) +\n",
    "    aes(x=\"cut\", y=\"Ovoid compactness\") +\n",
    "    geom_bar(stat=\"identity\", fill=\"steelblue\")\n",
    ")"
   ]
  },
  {
   "cell_type": "markdown",
   "id": "9704a6f5",
   "metadata": {},
   "source": [
    "j.  Now let's also investigate the distribution of compactness for each cut.  Create a boxplot that compares the distribution of compactness values for each cut.  Use appropriate axis labels for your graph"
   ]
  },
  {
   "cell_type": "code",
   "execution_count": 52,
   "id": "5303f79b",
   "metadata": {},
   "outputs": [
    {
     "data": {
      "image/png": "[encoded data removed]",
      "text/plain": [
       "<Figure size 640x480 with 1 Axes>"
      ]
     },
     "metadata": {
      "image/png": {
       "height": 480,
       "width": 640
      }
     },
     "output_type": "display_data"
    },
    {
     "data": {
      "text/plain": [
       "<Figure Size: (640 x 480)>"
      ]
     },
     "execution_count": 52,
     "metadata": {},
     "output_type": "execute_result"
    }
   ],
   "source": [
    "(\n",
    "    ggplot(diamonds_df) +\n",
    "    aes(x=\"cut\", y=\"Ovoid compactness\") +\n",
    "    geom_boxplot(fill=\"steelblue\")\n",
    ")"
   ]
  },
  {
   "cell_type": "markdown",
   "id": "ef5b3272",
   "metadata": {},
   "source": [
    "## Electrophysiology"
   ]
  },
  {
   "cell_type": "markdown",
   "id": "3fb6e78b",
   "metadata": {},
   "source": [
    "a.  The file ```conductance_data_for_seeds_v2.xlsx``` lists a set of measured values of conductance of single macromolecular structures.  There are three sheets in the dataframe. Load each of the sheets of the Excel file into Python in three dataframes, one for each sheet, so that the headers in the spreadsheet become the column names in your dataframe.  Your three dataframes should be stored in an array ```conductance_df_array``` in indices 0-2 in the order the sheets are provided."
   ]
  },
  {
   "cell_type": "code",
   "execution_count": 64,
   "id": "a583b619",
   "metadata": {},
   "outputs": [],
   "source": [
    "FILE = pd.ExcelFile(\"conductance_data_for_seeds_v2.xlsx\")\n",
    "conductance_df_array = pd.read_excel(FILE, FILE.sheet_names)"
   ]
  },
  {
   "cell_type": "markdown",
   "id": "2667b81a",
   "metadata": {},
   "source": [
    "b.  You can see that each of the sheets has a title -- the type of structure being characterized.  Combine this data into a single dataframe ```conductances``` in which the type of structure being characterized is listed in a column as a categorical variable.  Do this by reading the names of the sheets from the Excel file using Python, not manually (later you may need to do this for many more sheets, so this is a good skill to learn)."
   ]
  },
  {
   "cell_type": "code",
   "execution_count": 76,
   "id": "ae5e3f79",
   "metadata": {},
   "outputs": [
    {
     "data": {
      "text/html": [
       "<div>\n",
       "<style scoped>\n",
       "    .dataframe tbody tr th:only-of-type {\n",
       "        vertical-align: middle;\n",
       "    }\n",
       "\n",
       "    .dataframe tbody tr th {\n",
       "        vertical-align: top;\n",
       "    }\n",
       "\n",
       "    .dataframe thead th {\n",
       "        text-align: right;\n",
       "    }\n",
       "</style>\n",
       "<table border=\"1\" class=\"dataframe\">\n",
       "  <thead>\n",
       "    <tr style=\"text-align: right;\">\n",
       "      <th></th>\n",
       "      <th>Conductance [pS]</th>\n",
       "      <th>No. of channels</th>\n",
       "      <th>name</th>\n",
       "    </tr>\n",
       "  </thead>\n",
       "  <tbody>\n",
       "    <tr>\n",
       "      <th>0</th>\n",
       "      <td>325</td>\n",
       "      <td>0</td>\n",
       "      <td>nanotube_seeds</td>\n",
       "    </tr>\n",
       "    <tr>\n",
       "      <th>1</th>\n",
       "      <td>350</td>\n",
       "      <td>0</td>\n",
       "      <td>nanotube_seeds</td>\n",
       "    </tr>\n",
       "    <tr>\n",
       "      <th>2</th>\n",
       "      <td>375</td>\n",
       "      <td>0</td>\n",
       "      <td>nanotube_seeds</td>\n",
       "    </tr>\n",
       "    <tr>\n",
       "      <th>3</th>\n",
       "      <td>400</td>\n",
       "      <td>0</td>\n",
       "      <td>nanotube_seeds</td>\n",
       "    </tr>\n",
       "    <tr>\n",
       "      <th>4</th>\n",
       "      <td>425</td>\n",
       "      <td>0</td>\n",
       "      <td>nanotube_seeds</td>\n",
       "    </tr>\n",
       "    <tr>\n",
       "      <th>...</th>\n",
       "      <td>...</td>\n",
       "      <td>...</td>\n",
       "      <td>...</td>\n",
       "    </tr>\n",
       "    <tr>\n",
       "      <th>107</th>\n",
       "      <td>2725</td>\n",
       "      <td>1</td>\n",
       "      <td>shuttered_seeds</td>\n",
       "    </tr>\n",
       "    <tr>\n",
       "      <th>108</th>\n",
       "      <td>2750</td>\n",
       "      <td>0</td>\n",
       "      <td>shuttered_seeds</td>\n",
       "    </tr>\n",
       "    <tr>\n",
       "      <th>109</th>\n",
       "      <td>2775</td>\n",
       "      <td>0</td>\n",
       "      <td>shuttered_seeds</td>\n",
       "    </tr>\n",
       "    <tr>\n",
       "      <th>110</th>\n",
       "      <td>2800</td>\n",
       "      <td>0</td>\n",
       "      <td>shuttered_seeds</td>\n",
       "    </tr>\n",
       "    <tr>\n",
       "      <th>111</th>\n",
       "      <td>3975</td>\n",
       "      <td>1</td>\n",
       "      <td>shuttered_seeds</td>\n",
       "    </tr>\n",
       "  </tbody>\n",
       "</table>\n",
       "<p>339 rows × 3 columns</p>\n",
       "</div>"
      ],
      "text/plain": [
       "     Conductance [pS]  No. of channels             name\n",
       "0                 325                0   nanotube_seeds\n",
       "1                 350                0   nanotube_seeds\n",
       "2                 375                0   nanotube_seeds\n",
       "3                 400                0   nanotube_seeds\n",
       "4                 425                0   nanotube_seeds\n",
       "..                ...              ...              ...\n",
       "107              2725                1  shuttered_seeds\n",
       "108              2750                0  shuttered_seeds\n",
       "109              2775                0  shuttered_seeds\n",
       "110              2800                0  shuttered_seeds\n",
       "111              3975                1  shuttered_seeds\n",
       "\n",
       "[339 rows x 3 columns]"
      ]
     },
     "execution_count": 76,
     "metadata": {},
     "output_type": "execute_result"
    }
   ],
   "source": [
    "for sheet in conductance_df_array:\n",
    "    conductance_df_array[sheet][\"name\"] = sheet\n",
    "conductances = pd.concat([conductance_df_array[sheet] for sheet in conductance_df_array])\n",
    "conductances"
   ]
  },
  {
   "cell_type": "markdown",
   "id": "7309a7e4",
   "metadata": {},
   "source": [
    "c.  You can notice that the data is not stored so that there is one observation per row.  Write code to transform ```conductances``` into a tidy dataset in which each observation is in its own row."
   ]
  },
  {
   "cell_type": "code",
   "execution_count": 85,
   "id": "10e2b694",
   "metadata": {},
   "outputs": [
    {
     "data": {
      "text/html": [
       "<div>\n",
       "<style scoped>\n",
       "    .dataframe tbody tr th:only-of-type {\n",
       "        vertical-align: middle;\n",
       "    }\n",
       "\n",
       "    .dataframe tbody tr th {\n",
       "        vertical-align: top;\n",
       "    }\n",
       "\n",
       "    .dataframe thead th {\n",
       "        text-align: right;\n",
       "    }\n",
       "</style>\n",
       "<table border=\"1\" class=\"dataframe\">\n",
       "  <thead>\n",
       "    <tr style=\"text-align: right;\">\n",
       "      <th></th>\n",
       "      <th>name</th>\n",
       "      <th>variable</th>\n",
       "      <th>value</th>\n",
       "    </tr>\n",
       "  </thead>\n",
       "  <tbody>\n",
       "    <tr>\n",
       "      <th>0</th>\n",
       "      <td>nanotube_seeds</td>\n",
       "      <td>Conductance [pS]</td>\n",
       "      <td>325</td>\n",
       "    </tr>\n",
       "    <tr>\n",
       "      <th>1</th>\n",
       "      <td>nanotube_seeds</td>\n",
       "      <td>Conductance [pS]</td>\n",
       "      <td>350</td>\n",
       "    </tr>\n",
       "    <tr>\n",
       "      <th>2</th>\n",
       "      <td>nanotube_seeds</td>\n",
       "      <td>Conductance [pS]</td>\n",
       "      <td>375</td>\n",
       "    </tr>\n",
       "    <tr>\n",
       "      <th>3</th>\n",
       "      <td>nanotube_seeds</td>\n",
       "      <td>Conductance [pS]</td>\n",
       "      <td>400</td>\n",
       "    </tr>\n",
       "    <tr>\n",
       "      <th>4</th>\n",
       "      <td>nanotube_seeds</td>\n",
       "      <td>Conductance [pS]</td>\n",
       "      <td>425</td>\n",
       "    </tr>\n",
       "    <tr>\n",
       "      <th>...</th>\n",
       "      <td>...</td>\n",
       "      <td>...</td>\n",
       "      <td>...</td>\n",
       "    </tr>\n",
       "    <tr>\n",
       "      <th>673</th>\n",
       "      <td>shuttered_seeds</td>\n",
       "      <td>No. of channels</td>\n",
       "      <td>1</td>\n",
       "    </tr>\n",
       "    <tr>\n",
       "      <th>674</th>\n",
       "      <td>shuttered_seeds</td>\n",
       "      <td>No. of channels</td>\n",
       "      <td>0</td>\n",
       "    </tr>\n",
       "    <tr>\n",
       "      <th>675</th>\n",
       "      <td>shuttered_seeds</td>\n",
       "      <td>No. of channels</td>\n",
       "      <td>0</td>\n",
       "    </tr>\n",
       "    <tr>\n",
       "      <th>676</th>\n",
       "      <td>shuttered_seeds</td>\n",
       "      <td>No. of channels</td>\n",
       "      <td>0</td>\n",
       "    </tr>\n",
       "    <tr>\n",
       "      <th>677</th>\n",
       "      <td>shuttered_seeds</td>\n",
       "      <td>No. of channels</td>\n",
       "      <td>1</td>\n",
       "    </tr>\n",
       "  </tbody>\n",
       "</table>\n",
       "<p>678 rows × 3 columns</p>\n",
       "</div>"
      ],
      "text/plain": [
       "                name          variable  value\n",
       "0     nanotube_seeds  Conductance [pS]    325\n",
       "1     nanotube_seeds  Conductance [pS]    350\n",
       "2     nanotube_seeds  Conductance [pS]    375\n",
       "3     nanotube_seeds  Conductance [pS]    400\n",
       "4     nanotube_seeds  Conductance [pS]    425\n",
       "..               ...               ...    ...\n",
       "673  shuttered_seeds   No. of channels      1\n",
       "674  shuttered_seeds   No. of channels      0\n",
       "675  shuttered_seeds   No. of channels      0\n",
       "676  shuttered_seeds   No. of channels      0\n",
       "677  shuttered_seeds   No. of channels      1\n",
       "\n",
       "[678 rows x 3 columns]"
      ]
     },
     "execution_count": 85,
     "metadata": {},
     "output_type": "execute_result"
    }
   ],
   "source": []
  },
  {
   "cell_type": "markdown",
   "id": "b1142710",
   "metadata": {},
   "source": [
    "d.  Create a histogram of all of the conductances as a single plot.  Label your axes with appropriate names and units."
   ]
  },
  {
   "cell_type": "code",
   "execution_count": null,
   "id": "124ca060",
   "metadata": {},
   "outputs": [],
   "source": []
  },
  {
   "cell_type": "markdown",
   "id": "4adea0c5",
   "metadata": {},
   "source": [
    "e.  Now create a faceted histogram in which the each of the three types of structures are plotted in their own histogram side by side.   Label your axes with appropriate names and units."
   ]
  },
  {
   "cell_type": "code",
   "execution_count": null,
   "id": "57a757d1",
   "metadata": {},
   "outputs": [],
   "source": []
  },
  {
   "cell_type": "markdown",
   "id": "df012828",
   "metadata": {},
   "source": [
    "f.  What can you conclude about the conductances of the different structures from the histograms?"
   ]
  },
  {
   "cell_type": "code",
   "execution_count": null,
   "id": "994a1433",
   "metadata": {},
   "outputs": [],
   "source": []
  },
  {
   "cell_type": "markdown",
   "id": "f51f4e13",
   "metadata": {},
   "source": [
    "## Filtering and joining"
   ]
  },
  {
   "cell_type": "markdown",
   "id": "530fa972",
   "metadata": {},
   "source": [
    "a.  In this problem we are going to consider data from a survey of countries by their happiness in 2017, in the file ```happiness_2017.csv``` and data about countries of the world ```world_countries.csv```.  Load each of these into two dataframes, ```happiness``` and ```country_data```"
   ]
  },
  {
   "cell_type": "code",
   "execution_count": null,
   "id": "49625280",
   "metadata": {},
   "outputs": [],
   "source": []
  },
  {
   "cell_type": "markdown",
   "id": "20840600",
   "metadata": {},
   "source": [
    "Inspect each of the dataframes.  You can see that the country data dataframe has extensive demographic data to support the happiness dataset.  We are going to make some comparisons by joining these datasets and plot the results."
   ]
  },
  {
   "cell_type": "markdown",
   "id": "1d0ee302",
   "metadata": {},
   "source": [
    "b.  Use merging operations to add information about literacy to the happiness dataframe.  Create a scatter plot that relates literacy to happiness.  Use appropriate axis labels, and color code the datapoints by region."
   ]
  },
  {
   "cell_type": "code",
   "execution_count": null,
   "id": "367bd626",
   "metadata": {},
   "outputs": [],
   "source": []
  },
  {
   "cell_type": "markdown",
   "id": "5856f007",
   "metadata": {},
   "source": [
    "c.  Now let's do a similar analysis, in which we relate the fraction of people who have phones in a country to the amount of corruption in a country.  Group the results by region and create a scatter plot of the results (there will be many fewer regions than countries).  "
   ]
  },
  {
   "cell_type": "code",
   "execution_count": null,
   "id": "81d7c7f0",
   "metadata": {},
   "outputs": [],
   "source": []
  },
  {
   "cell_type": "markdown",
   "id": "6bc3ae4e",
   "metadata": {},
   "source": [
    "f.  Now let's take a look at the countries that are very generous. Create a dataframe that contains the ten countries with highest generosity scores ```most_generous``` and another with those 10 rated as least generous ```least_generous```."
   ]
  },
  {
   "cell_type": "code",
   "execution_count": null,
   "id": "243c89c8",
   "metadata": {},
   "outputs": [],
   "source": []
  },
  {
   "cell_type": "markdown",
   "id": "9d87e4c4",
   "metadata": {},
   "source": [
    "g.  Add a column listing the amount of arable land to each of the columns of the dataframes."
   ]
  },
  {
   "cell_type": "code",
   "execution_count": null,
   "id": "acb0a352",
   "metadata": {},
   "outputs": [],
   "source": []
  },
  {
   "cell_type": "markdown",
   "id": "709df79a",
   "metadata": {},
   "source": [
    "h.  Now compute the mean amount of arable land for each of these sets of countries.  Store these in ```mg_arable_mean``` and ```lg_arable_mean```.  "
   ]
  },
  {
   "cell_type": "code",
   "execution_count": null,
   "id": "32d9df37",
   "metadata": {},
   "outputs": [],
   "source": []
  },
  {
   "cell_type": "markdown",
   "id": "e069f4f6",
   "metadata": {},
   "source": [
    "i.  To understand whether these differences are meaningful, let's take a look at the distribution of arable land.  Generate the summary statistics for arable land:"
   ]
  },
  {
   "cell_type": "code",
   "execution_count": null,
   "id": "85b5afd6",
   "metadata": {},
   "outputs": [],
   "source": []
  },
  {
   "cell_type": "markdown",
   "id": "13452f69",
   "metadata": {},
   "source": [
    "j.  Now create a scatter plot that helps you visualize the relationship between the amount of arable land of all the countries in the world.  Add a regression line relating these two values, and calculate the correlation coefficient of these two terms.  \n",
    "Based the plot and this information, how would you characterize the relationship between arable land and generosity?"
   ]
  },
  {
   "cell_type": "code",
   "execution_count": null,
   "id": "ea54516c",
   "metadata": {},
   "outputs": [],
   "source": []
  },
  {
   "cell_type": "markdown",
   "id": "feb2c81b",
   "metadata": {},
   "source": [
    "## Cleaning genomics data (540.605 only)"
   ]
  },
  {
   "cell_type": "markdown",
   "id": "aa2527c2",
   "metadata": {},
   "source": [
    "The data in the spreadsheet ```data-for-analysis-miRNA-cancer``` is a set of next-generation sequencing reads for a range of tissue samples.  The sample names are given by codes on the second row of the dataframe.  The possible miRNA sequences that are read are the rows and three attributes for each tissue sample are given, the total number of reads, the read frequency and whether the reads were crossmapped. "
   ]
  },
  {
   "cell_type": "markdown",
   "id": "47b816ad",
   "metadata": {},
   "source": [
    "The data for this problem was kindly provided by the authors of this article:\n",
    "Zhang, C. et al. Nat. Nanotechnol. https://doi.org/10.1038/s41565020-0699-0 (2020)\n"
   ]
  },
  {
   "cell_type": "markdown",
   "id": "bb0633c9",
   "metadata": {},
   "source": [
    "a.  This data is not in tidy format.  Clean up the data so that each observation, *i.e.* each tissue sample is a row and the frequency and number of reads of each type of miRNA are the columns (we will not consider the cross-mapped attribute for this exercise.)  Store the result in ```miRNA_tidy```"
   ]
  },
  {
   "cell_type": "code",
   "execution_count": null,
   "id": "4e5f3068",
   "metadata": {},
   "outputs": [],
   "source": []
  },
  {
   "cell_type": "markdown",
   "id": "23698687",
   "metadata": {},
   "source": [
    "b.  Here the tissue samples are labeled with a standard TGCA barcode.  A description of how TGCA barcodes work is found here:\n",
    "https://docs.gdc.cancer.gov/Encyclopedia/pages/TCGA_Barcode/\n",
    "\n",
    "The specimen ID also contains the diagnosis. Read over this description to understand how this information is encoded.\n",
    "\n",
    "Write a python function ```patient_diagnosis``` that takes the specimen ID and returns 'normal' if the specimen type is normal and 'tumor' if the specimen type is of a tumor."
   ]
  },
  {
   "cell_type": "code",
   "execution_count": null,
   "id": "f1ccb46b",
   "metadata": {},
   "outputs": [],
   "source": []
  },
  {
   "cell_type": "markdown",
   "id": "0bba6681",
   "metadata": {},
   "source": [
    "c.  Use this function to add a column to create a separate dataframe ```barcode_values``` with two columns: ````TGCA_barcode``` and ```diagnosis``.  "
   ]
  },
  {
   "cell_type": "code",
   "execution_count": null,
   "id": "b796ae0c",
   "metadata": {},
   "outputs": [],
   "source": []
  },
  {
   "cell_type": "markdown",
   "id": "c2de6c5e",
   "metadata": {},
   "source": [
    "d.  Now let's try to take a look at this data to attempt to identify miRNAs that might on their own be indicative of a patient having a tumor.  Add the ```diagnosis``` column to the ```miRNA_tidy``` dataframe by merging that dataframe with the dataframe you made in c."
   ]
  },
  {
   "cell_type": "code",
   "execution_count": null,
   "id": "e8033d0c",
   "metadata": {},
   "outputs": [],
   "source": []
  },
  {
   "cell_type": "markdown",
   "id": "f377a119",
   "metadata": {},
   "source": [
    "e.  Now group your data by diagnosis and create a summary of the mean reads per million of each of the types of miRNA.  Call this ```mean_freq_by_diagnosis```."
   ]
  },
  {
   "cell_type": "code",
   "execution_count": null,
   "id": "c20758ff",
   "metadata": {},
   "outputs": [],
   "source": []
  },
  {
   "cell_type": "markdown",
   "id": "d6cc7d13",
   "metadata": {},
   "source": [
    "f.  Now let's filter this dataframe to find miRNA values that might differ.  Create a table of all miRNA values for which the mean reads per million is at least 25% higher on average for tumor samples vs normal samples. Store that in the variable ```tumor_25_higher```"
   ]
  },
  {
   "cell_type": "code",
   "execution_count": null,
   "id": "d74a1441",
   "metadata": {},
   "outputs": [],
   "source": []
  },
  {
   "cell_type": "markdown",
   "id": "47cd07db",
   "metadata": {},
   "source": [
    "g.  Repeat (f) but for reads per million that are at least 25% *lower* on average. Store that in the variable ```tumor_25_lower```"
   ]
  },
  {
   "cell_type": "code",
   "execution_count": null,
   "id": "8fd876dc",
   "metadata": {},
   "outputs": [],
   "source": []
  },
  {
   "cell_type": "markdown",
   "id": "c6b86dbf",
   "metadata": {},
   "source": [
    "h.  Now let's try one more thing -- it will be hard to count on reads per million below about 50.  Combine your results from (f) and (g) but restrict your list to only those miRNA whose mean reads per million is at least 50.  Store that in the variable ```tumor_different_and_frequent``` "
   ]
  }
 ],
 "metadata": {
  "kernelspec": {
   "display_name": "Python 3 (ipykernel)",
   "language": "python",
   "name": "python3"
  },
  "language_info": {
   "codemirror_mode": {
    "name": "ipython",
    "version": 3
   },
   "file_extension": ".py",
   "mimetype": "text/x-python",
   "name": "python",
   "nbconvert_exporter": "python",
   "pygments_lexer": "ipython3",
   "version": "3.10.13"
  }
 },
 "nbformat": 4,
 "nbformat_minor": 5
}
